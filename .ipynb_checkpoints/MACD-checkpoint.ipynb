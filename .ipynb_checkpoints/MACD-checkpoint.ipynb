{
 "cells": [
  {
   "cell_type": "markdown",
   "metadata": {},
   "source": [
    "# MACD"
   ]
  },
  {
   "cell_type": "code",
   "execution_count": null,
   "metadata": {},
   "outputs": [],
   "source": [
    "from Risk.NullRiskManagementModel import NullRiskManagementModel\n",
    "from clr import AddReference\n",
    "AddReference(\"System\")\n",
    "AddReference(\"QuantConnect.Algorithm\")\n",
    "AddReference(\"QuantConnect.Indicators\")\n",
    "AddReference(\"QuantConnect.Common\")\n",
    "\n",
    "from System import *\n",
    "from QuantConnect import *\n",
    "from QuantConnect.Algorithm import *\n",
    "from QuantConnect.Indicators import *\n",
    "from datetime import datetime"
   ]
  },
  {
   "cell_type": "code",
   "execution_count": null,
   "metadata": {},
   "outputs": [],
   "source": [
    "#for more data review:\n",
    "#https://www.quantconnect.com/research/notebook/16213/MyResearch.ipynb\n",
    "#usamos la paqueteria de señales MACD\n",
    "class MACDTrendAlgorithm(QCAlgorithm):\n",
    "\n",
    "    def Initialize(self):\n",
    "        '''Initialise the data and resolution required, as well as the cash and start-end dates for your algorithm. All algorithms must initialized.'''\n",
    "        self.ticker='NVDA'#add the ticker, just stocks\n",
    "        #we can also trade fx or cryptos, but we need to chang add equity\n",
    "        self.SetStartDate(2014, 1, 1)    #Set Start Date\n",
    "        self.SetEndDate(DateTime.Today)      #Set End Date\n",
    "        self.SetCash(1000)             #Set Strategy Cash\n",
    "        # Find more symbols here: http://quantconnect.com/data\n",
    "        self.AddEquity(self.ticker, Resolution.Hour)#daily,hour, minute, tick\n",
    "        #self.AddForex(self.ticker,Resolution.Hour)\n",
    "        #self.AddCrypto(self.ticker,Resolution.Minute)\n",
    "        # define our daily macd(12,26) with a 9 hour signal\n",
    "        # how to trade macd https://www.investopedia.com/terms/m/macd.asp\n",
    "        self.__macd = self.EMA(self.ticker, 12, 26,9, MovingAverageType.Exponential,Resolution.Hour)\n",
    "        self.__previous = datetime.min\n",
    "        self.PlotIndicator(\"MACD\", True, self._macd, self._macd.Signal)\n",
    "        self.PlotIndicator(self.ticker, self._macd.Fast, self._macd.Slow)\n",
    "\n",
    "\n",
    "    def OnData(self, data):\n",
    "        '''OnData event is the primary entry point for your algorithm. Each new data point will be pumped in here.'''\n",
    "        # wait for our macd to fully initialize\n",
    "        if not self.__macd.IsReady: return#se inicializa el macd\n",
    "\n",
    "        # only once per hour\n",
    "        if self.__previous.date() == self.Time.date(): return#compara precio anterior con actual\n",
    "\n",
    "        # define a small tolerance on our checks to avoid bouncing\n",
    "        tolerance = 0.0025#tolerancia de reobote\n",
    "\n",
    "        holdings = self.Portfolio[self.ticker].Quantity#Ccantidad de titulos\n",
    "\n",
    "        signalDeltaPercent = (self._macd.Current.Value - self.macd.Signal.Current.Value)/self._macd.Fast.Current.Value\n",
    "#se presenta la señal de cambio\n",
    "        # if our macd is greater than our signal, then let's go long\n",
    "        #señal para comprar si se tiene <= que cero titulos\n",
    "        if holdings <= 0 and signalDeltaPercent > tolerance:  \n",
    "            # longterm says buy as well\n",
    "            self.SetHoldings(self.ticker, 1.0)\n",
    "#set existing holdings\n",
    "#self.SetHoldings(Symbol symbol, double percentage, bool liquidateExistingHoldings = false)\n",
    "\n",
    "        # of our macd is less than our signal, then let's go short\n",
    "        elif holdings >= 0 and signalDeltaPercent < -tolerance:\n",
    "            self.Liquidate(self.ticker)#Se venden los titulos que teniamos\n",
    "#liquidate holdings\n",
    "#self.Liquidate(symbolToLiquidate=None) # set ticker to liquidate specific symbol\n",
    "        self.__previous = self.Time\n",
    "#for more than 1 ticker\n",
    "# Set fixed percentages of known tickers:\n",
    "# self.SetHoldings(\"IBM\", 0.25)\n",
    "# self.SetHoldings(\"GOOG\", 0.25)\n",
    "# self.SetHoldings(\"AAPL\", 0.25)\n",
    "# self.SetHoldings(\"MSFT\", 0.25)\n",
    "\n",
    "# # Or set portfolio to equal weighting of all securities:\n",
    "# weighting = 1.0 / self.Securities.Count\n",
    "# for security in self.Securities.Values:\n",
    "#     self.SetHoldings(security.Symbol, weighting)"
   ]
  }
 ],
 "metadata": {
  "kernelspec": {
   "display_name": "Python 3",
   "language": "python",
   "name": "python3"
  },
  "language_info": {
   "codemirror_mode": {
    "name": "ipython",
    "version": 3
   },
   "file_extension": ".py",
   "mimetype": "text/x-python",
   "name": "python",
   "nbconvert_exporter": "python",
   "pygments_lexer": "ipython3",
   "version": "3.6.5"
  }
 },
 "nbformat": 4,
 "nbformat_minor": 2
}
