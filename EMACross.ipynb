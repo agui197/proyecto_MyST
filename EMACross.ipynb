{
 "cells": [
  {
   "cell_type": "markdown",
   "metadata": {},
   "source": [
    "# EMA Cross Backtest"
   ]
  },
  {
   "cell_type": "code",
   "execution_count": null,
   "metadata": {},
   "outputs": [],
   "source": [
    "# QUANTCONNECT.COM - Democratizing Finance, Empowering Individuals.\n",
    "# Lean Algorithmic Trading Engine v2.0. Copyright 2014 QuantConnect Corporation.\n",
    "#\n",
    "# Licensed under the Apache License, Version 2.0 (the \"License\");\n",
    "# you may not use this file except in compliance with the License.\n",
    "# You may obtain a copy of the License at http://www.apache.org/licenses/LICENSE-2.0\n",
    "#\n",
    "# Unless required by applicable law or agreed to in writing, software\n",
    "# distributed under the License is distributed on an \"AS IS\" BASIS,\n",
    "# WITHOUT WARRANTIES OR CONDITIONS OF ANY KIND, either express or implied.\n",
    "# See the License for the specific language governing permissions and\n",
    "# limitations under the License.\n",
    "\n",
    "import clr\n",
    "clr.AddReference(\"System\")\n",
    "clr.AddReference(\"QuantConnect.Algorithm\")\n",
    "clr.AddReference(\"QuantConnect.Indicators\")\n",
    "clr.AddReference(\"QuantConnect.Common\")\n",
    "\n",
    "from System import *\n",
    "from QuantConnect import *\n",
    "from QuantConnect.Algorithm import *\n",
    "from QuantConnect.Indicators import *\n",
    "from datetime import datetime\n",
    "import decimal as d\n",
    "\n",
    "### <summary>\n",
    "### In this example we look at the canonical 15/30 day moving average cross. This algorithm\n",
    "### will go long when the 15 crosses above the 30 and will liquidate when the 15 crosses\n",
    "### back below the 30.\n",
    "### </summary>\n",
    "### <meta name=\"tag\" content=\"indicators\" />\n",
    "### <meta name=\"tag\" content=\"indicator classes\" />\n",
    "### <meta name=\"tag\" content=\"moving average cross\" />\n",
    "### <meta name=\"tag\" content=\"strategy example\" />\n",
    "class MovingAverageCrossAlgorithm(QCAlgorithm):\n",
    "\n",
    "    def Initialize(self,ventana):\n",
    "        '''Initialise the data and resolution required, as well as the cash and start-end dates for your algorithm. All algorithms must initialized.'''\n",
    "\n",
    "        self.SetStartDate(2010, 1, 1)    #Set Start Date\n",
    "        self.SetEndDate(2018,11,1)      #Set End Date\n",
    "        self.SetCash(100000)             #Set Strategy Cash\n",
    "        # Find more symbols here: http://quantconnect.com/data\n",
    "        self.AddEquity(\"SPY\")\n",
    "        #equity = self.AddEquity(self.tkr, self.resol)  \n",
    "        # create a 15 day exponential moving average\n",
    "        self.ventana=ventana\n",
    "        self.fast = self.EMA(\"SPY\", self.ventana, Resolution.Daily)\n",
    "\n",
    "        # create a 30 day exponential moving average\n",
    "        self.slow = self.EMA(\"SPY\", 13, Resolution.Daily)\n",
    "\n",
    "        self.previous = None\n",
    "\n",
    "    \n",
    "    def OnData(self, data):\n",
    "        '''OnData event is the primary entry point for your algorithm. Each new data point will be pumped in here.'''\n",
    "        # a couple things to notice in this method:\n",
    "        #  1. We never need to 'update' our indicators with the data, the engine takes care of this for us\n",
    "        #  2. We can use indicators directly in math expressions\n",
    "        #  3. We can easily plot many indicators at the same time\n",
    "\n",
    "        # wait for our slow ema to fully initialize\n",
    "        if not self.slow.IsReady:\n",
    "            return\n",
    "\n",
    "        # only once per day\n",
    "        if self.previous is not None and self.previous.date() == self.Time.date():\n",
    "            return\n",
    "\n",
    "        # define a small tolerance on our checks to avoid bouncing\n",
    "        tolerance = 0.00015\n",
    "\n",
    "        holdings = self.Portfolio[\"SPY\"].Quantity\n",
    "\n",
    "        # we only want to go long if we're currently short or flat\n",
    "        if holdings == 0:\n",
    "            # if the fast is greater than the slow, we'll go long\n",
    "            if self.fast.Current.Value < self.slow.Current.Value * d.Decimal(1 + tolerance):\n",
    "                self.Log(\"SELL  >> {0}\".format(self.Securities[\"SPY\"].Price))\n",
    "                self.SetHoldings(\"SPY\", 1.0)\n",
    "            elif self.fast.Current.Value > self.slow.Current.Value * d.Decimal(1 + tolerance):\n",
    "                self.Log(\"BUY  >> {0}\".format(self.Securities[\"SPY\"].Price))\n",
    "                self.SetHoldings(\"SPY\", 1.0)\n",
    "        # we only want to liquidate if we're currently long\n",
    "        # if the fast is less than the slow we'll liquidate our long\n",
    "        if holdings < 0 and self.fast.Current.Value > self.slow.Current.Value:\n",
    "            self.Log(\"BUY >> {0}\".format(self.Securities[\"SPY\"].Price))\n",
    "            self.Liquidate(\"SPY\")\n",
    "            self.Log(\"BUY  >> {0}\".format(self.Securities[\"SPY\"].Price))\n",
    "            self.SetHoldings(\"SPY\", 1.0)\n",
    "        #SHORT AND LONG   \n",
    "        if holdings > 0 and self.fast.Current.Value < self.slow.Current.Value:\n",
    "            self.Log(\"SELL >> {0}\".format(self.Securities[\"SPY\"].Price))\n",
    "            self.Liquidate(\"SPY\")\n",
    "            self.Log(\"SELL  >> {0}\".format(self.Securities[\"SPY\"].Price))\n",
    "            self.SetHoldings(\"SPY\", 1.0)\n",
    "        self.previous = self.Time"
   ]
  },
  {
   "cell_type": "markdown",
   "metadata": {},
   "source": [
    "# EMA Cross Notebook"
   ]
  },
  {
   "cell_type": "code",
   "execution_count": 1,
   "metadata": {},
   "outputs": [
    {
     "ename": "ModuleNotFoundError",
     "evalue": "No module named 'clr'",
     "output_type": "error",
     "traceback": [
      "\u001b[1;31m---------------------------------------------------------------------------\u001b[0m",
      "\u001b[1;31mModuleNotFoundError\u001b[0m                       Traceback (most recent call last)",
      "\u001b[1;32m<ipython-input-1-841ca17983dc>\u001b[0m in \u001b[0;36m<module>\u001b[1;34m()\u001b[0m\n\u001b[0;32m      1\u001b[0m \u001b[0mget_ipython\u001b[0m\u001b[1;33m(\u001b[0m\u001b[1;33m)\u001b[0m\u001b[1;33m.\u001b[0m\u001b[0mrun_line_magic\u001b[0m\u001b[1;33m(\u001b[0m\u001b[1;34m'matplotlib'\u001b[0m\u001b[1;33m,\u001b[0m \u001b[1;34m'inline'\u001b[0m\u001b[1;33m)\u001b[0m\u001b[1;33m\u001b[0m\u001b[0m\n\u001b[0;32m      2\u001b[0m \u001b[1;31m# Imports\u001b[0m\u001b[1;33m\u001b[0m\u001b[1;33m\u001b[0m\u001b[0m\n\u001b[1;32m----> 3\u001b[1;33m \u001b[1;32mfrom\u001b[0m \u001b[0mclr\u001b[0m \u001b[1;32mimport\u001b[0m \u001b[0mAddReference\u001b[0m\u001b[1;33m\u001b[0m\u001b[0m\n\u001b[0m\u001b[0;32m      4\u001b[0m \u001b[0mAddReference\u001b[0m\u001b[1;33m(\u001b[0m\u001b[1;34m\"System\"\u001b[0m\u001b[1;33m)\u001b[0m\u001b[1;33m\u001b[0m\u001b[0m\n\u001b[0;32m      5\u001b[0m \u001b[0mAddReference\u001b[0m\u001b[1;33m(\u001b[0m\u001b[1;34m\"QuantConnect.Common\"\u001b[0m\u001b[1;33m)\u001b[0m\u001b[1;33m\u001b[0m\u001b[0m\n",
      "\u001b[1;31mModuleNotFoundError\u001b[0m: No module named 'clr'"
     ]
    }
   ],
   "source": [
    "%matplotlib inline\n",
    "# Imports\n",
    "from clr import AddReference\n",
    "AddReference(\"System\")\n",
    "AddReference(\"QuantConnect.Common\")\n",
    "AddReference(\"QuantConnect.Jupyter\")\n",
    "AddReference(\"QuantConnect.Indicators\")\n",
    "from System import *\n",
    "from QuantConnect import *\n",
    "from QuantConnect.Data.Custom import *\n",
    "from QuantConnect.Data.Market import TradeBar, QuoteBar\n",
    "from QuantConnect.Jupyter import *\n",
    "from QuantConnect.Indicators import *\n",
    "from datetime import datetime, timedelta\n",
    "import matplotlib.pyplot as plt\n",
    "import pandas as pd\n",
    "\n",
    "# Create an instance\n",
    "qb = QuantBook()"
   ]
  },
  {
   "cell_type": "code",
   "execution_count": null,
   "metadata": {},
   "outputs": [],
   "source": [
    "spy = qb.AddEquity(\"SPY\")\n",
    "h1 = qb.History(qb.Securities.Keys, 360, Resolution.Daily)\n",
    "h1.loc[\"SPY\"][\"close\"].plot()\n"
   ]
  },
  {
   "cell_type": "code",
   "execution_count": null,
   "metadata": {},
   "outputs": [],
   "source": [
    "fast=qb.EMA(\"SPY\",8,Resolution.Daily)\n",
    "slow=qb.EMA(\"SPY\",13,Resolution.Daily)\n"
   ]
  },
  {
   "cell_type": "code",
   "execution_count": null,
   "metadata": {},
   "outputs": [],
   "source": [
    "temp=qb.Indicator(fast,\"SPY\",360,Resolution.Daily)\n",
    "temp1=qb.Indicator(slow,\"SPY\",360,Resolution.Daily)\n",
    "\n",
    "# Concatenate the information and plot \n",
    "df = pd.concat([h1.loc[\"SPY\"][\"close\"], temp, temp1], axis=1).dropna(axis=0)\n",
    "df.columns=['close','fast','slow']\n",
    "df.plot()"
   ]
  },
  {
   "cell_type": "code",
   "execution_count": null,
   "metadata": {},
   "outputs": [],
   "source": [
    "plt.plot((df['fast']>df['slow']).cumsum())"
   ]
  },
  {
   "cell_type": "code",
   "execution_count": null,
   "metadata": {},
   "outputs": [],
   "source": [
    "qb.Portfolio['SPY'].Quantity"
   ]
  }
 ],
 "metadata": {
  "kernelspec": {
   "display_name": "Python 3",
   "language": "python",
   "name": "python3"
  },
  "language_info": {
   "codemirror_mode": {
    "name": "ipython",
    "version": 3
   },
   "file_extension": ".py",
   "mimetype": "text/x-python",
   "name": "python",
   "nbconvert_exporter": "python",
   "pygments_lexer": "ipython3",
   "version": "3.6.5"
  }
 },
 "nbformat": 4,
 "nbformat_minor": 2
}
